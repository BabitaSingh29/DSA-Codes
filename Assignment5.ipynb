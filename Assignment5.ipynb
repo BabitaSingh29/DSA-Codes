{
 "cells": [
  {
   "cell_type": "markdown",
   "id": "736f8e35-3ce2-45f0-a201-d3ce152e1de6",
   "metadata": {},
   "source": [
    "## Question 1. Convert 1D Array Into 2D Array\n",
    "\n",
    "## You are given a 0-indexed 1-dimensional (1D) integer array original, and two integers, m and n. You are tasked with creating a 2-dimensional (2D) array with  m rows and n columns using all the elements from original.\n",
    "\n",
    "## The elements from indices 0 to n - 1 (inclusive) of original should form the first row of the constructed 2D array, the elements from indices n to 2  n - 1 (inclusive) should form the second row of the constructed 2D array, and so on.\n",
    "\n",
    "## Return an m x n 2D array constructed according to the above procedure, or an empty 2D array if it is impossible."
   ]
  },
  {
   "cell_type": "code",
   "execution_count": 2,
   "id": "c37eee80-b956-4555-a14b-7f3fc052fd8c",
   "metadata": {},
   "outputs": [],
   "source": [
    "def convert_to_2d(original, m, n):\n",
    "    if len(original) != m * n:\n",
    "        return []  # Return an empty 2D array if impossible\n",
    "\n",
    "    result = []\n",
    "    for i in range(m):\n",
    "        row = original[i * n : (i + 1) * n]\n",
    "        result.append(row)\n",
    "\n",
    "    return result"
   ]
  },
  {
   "cell_type": "code",
   "execution_count": 3,
   "id": "7e1b0fd7-79f1-4ae6-95df-92615c222c68",
   "metadata": {},
   "outputs": [
    {
     "name": "stdout",
     "output_type": "stream",
     "text": [
      "[[1, 2, 3], [4, 5, 6]]\n"
     ]
    }
   ],
   "source": [
    "original = [1, 2, 3, 4, 5, 6]\n",
    "m = 2\n",
    "n = 3\n",
    "result = convert_to_2d(original, m, n)\n",
    "print(result)"
   ]
  },
  {
   "cell_type": "markdown",
   "id": "4b32b2e5-984f-4ab2-b500-855e39720954",
   "metadata": {},
   "source": [
    "## Question 2. You have n coins and you want to build a staircase with these coins. The staircase consists of k rows where the ith row has exactly i coins. The last row of the staircase may be incomplete.\n",
    "\n",
    "## Given the integer n, return the number of complete rows of the staircase you will build."
   ]
  },
  {
   "cell_type": "code",
   "execution_count": 4,
   "id": "77ed480c-f68f-4d38-8f20-6a59a7384680",
   "metadata": {},
   "outputs": [],
   "source": [
    "def arrangeCoins(n):\n",
    "    left = 0\n",
    "    right = n\n",
    "\n",
    "    while left <= right:\n",
    "        mid = left + (right - left) // 2\n",
    "        coins_needed = (mid * (mid + 1)) // 2\n",
    "\n",
    "        if coins_needed == n:\n",
    "            return mid\n",
    "        elif coins_needed < n:\n",
    "            left = mid + 1\n",
    "        else:\n",
    "            right = mid - 1\n",
    "\n",
    "    return right  # Number of complete rows\n"
   ]
  },
  {
   "cell_type": "code",
   "execution_count": 5,
   "id": "c17158f2-4313-4721-b567-07307c6ad73b",
   "metadata": {},
   "outputs": [
    {
     "name": "stdout",
     "output_type": "stream",
     "text": [
      "3\n"
     ]
    }
   ],
   "source": [
    "n = 8\n",
    "result = arrangeCoins(n)\n",
    "print(result)"
   ]
  },
  {
   "cell_type": "markdown",
   "id": "404e9407-5fe8-41ee-9eab-36c43c8a6773",
   "metadata": {},
   "source": [
    "## Question 3. Given an integer array nums sorted in non-decreasing order, return an array of the squares of each number sorted in non-decreasing order."
   ]
  },
  {
   "cell_type": "code",
   "execution_count": 6,
   "id": "e9a597bc-eb28-4f97-b7d5-e76316de56b8",
   "metadata": {},
   "outputs": [],
   "source": [
    "def sortedSquares(nums):\n",
    "    result = [0] * len(nums)\n",
    "    left = 0\n",
    "    right = len(nums) - 1\n",
    "    index = len(nums) - 1\n",
    "\n",
    "    while left <= right:\n",
    "        if abs(nums[left]) > abs(nums[right]):\n",
    "            result[index] = nums[left] ** 2\n",
    "            left += 1\n",
    "        else:\n",
    "            result[index] = nums[right] ** 2\n",
    "            right -= 1\n",
    "        index -= 1\n",
    "\n",
    "    return result"
   ]
  },
  {
   "cell_type": "markdown",
   "id": "2379a744-1661-4767-9123-076517930e05",
   "metadata": {},
   "source": [
    "## Question 4. Given two **0-indexed** integer arrays nums1 and nums2, return *a list* answer *of size* 2 *where:*\n",
    "\n",
    "- answer[0] *is a list of all **distinct** integers in* nums1 *which are **not** present in* nums2*.*\n",
    "- answer[1] *is a list of all **distinct** integers in* nums2 *which are **not** present in* nums1.\n",
    "\n",
    "## Note that the integers in the lists may be returned in any order.\n"
   ]
  },
  {
   "cell_type": "code",
   "execution_count": 1,
   "id": "d14ed4c4-acbb-446d-af0a-80405b14ac1b",
   "metadata": {},
   "outputs": [],
   "source": [
    "def findDisjoint(nums1, nums2):\n",
    "    set1 = set(nums1)\n",
    "    set2 = set(nums2)\n",
    "\n",
    "    answer = []\n",
    "    answer.append(list(set1 - set2))\n",
    "    answer.append(list(set2 - set1))\n",
    "\n",
    "    return answer"
   ]
  },
  {
   "cell_type": "markdown",
   "id": "e1c92f62-29e0-4503-a414-9e825ccbc390",
   "metadata": {},
   "source": [
    "## Question 5\n",
    "\n",
    "## Given two integer arrays arr1 and arr2, and the integer d, *return the distance value between the two arrays*.\n",
    "\n",
    "## The distance value is defined as the number of elements arr1[i] such that there is not any element arr2[j] where |arr1[i]-arr2[j]| <= d."
   ]
  },
  {
   "cell_type": "code",
   "execution_count": 2,
   "id": "11749425-51ce-4405-8b62-17a32ad740ca",
   "metadata": {},
   "outputs": [],
   "source": [
    "def distance_value(arr1, arr2, d):\n",
    "    distance = 0\n",
    "    \n",
    "    for num1 in arr1:\n",
    "        is_valid = True\n",
    "        \n",
    "        for num2 in arr2:\n",
    "            if abs(num1 - num2) <= d:\n",
    "                is_valid = False\n",
    "                break\n",
    "        \n",
    "        if is_valid:\n",
    "            distance += 1\n",
    "    \n",
    "    return distance"
   ]
  },
  {
   "cell_type": "markdown",
   "id": "11cc6061-f3ee-48e7-9318-35da88140bc3",
   "metadata": {},
   "source": [
    "## Question 6. Given an integer array nums of length n where all the integers of nums are in the range [1, n] and each integer appears once or twice, return an array of all the integers that appears twice.\n",
    "\n",
    "## You must write an algorithm that runs in O(n) time and uses only constant extra space."
   ]
  },
  {
   "cell_type": "code",
   "execution_count": 3,
   "id": "ec253261-9008-43f6-af42-2c93fde09b9e",
   "metadata": {},
   "outputs": [],
   "source": [
    "def findDuplicates(nums):\n",
    "    duplicates = []\n",
    "    \n",
    "    for num in nums:\n",
    "        index = abs(num) - 1\n",
    "        if nums[index] < 0:\n",
    "            duplicates.append(abs(num))\n",
    "        else:\n",
    "            nums[index] = -nums[index]\n",
    "    \n",
    "    return duplicates"
   ]
  },
  {
   "cell_type": "markdown",
   "id": "cfbba000-ced7-41d3-9c50-e4ecc270bcda",
   "metadata": {},
   "source": [
    "## Question 7. Suppose an array of length n sorted in ascending order is **rotated** between 1 and n times. For example, the array nums = [0,1,2,4,5,6,7] might become:\n",
    "\n",
    "- [4,5,6,7,0,1,2] if it was rotated 4 times.\n",
    "- [0,1,2,4,5,6,7] if it was rotated 7 times.\n",
    "\n",
    "## Notice that rotating an array [a[0], a[1], a[2], ..., a[n-1]] 1 time results in the array [a[n-1], a[0], a[1], a[2], ..., a[n-2]].\n",
    "\n",
    "## Given the sorted rotated array nums of unique elements, return the minimum element of this array.\n",
    "\n",
    "## You must write an algorithm that runs in O(log n) time."
   ]
  },
  {
   "cell_type": "code",
   "execution_count": 4,
   "id": "48bc5e44-99e1-41dc-b5b9-e8f2d5f0c739",
   "metadata": {},
   "outputs": [],
   "source": [
    "def findMin(nums):\n",
    "    left = 0\n",
    "    right = len(nums) - 1\n",
    "    \n",
    "    while left < right:\n",
    "        mid = left + (right - left) // 2\n",
    "        \n",
    "        if nums[mid] > nums[right]:\n",
    "            left = mid + 1\n",
    "        else:\n",
    "            right = mid\n",
    "    \n",
    "    return nums[left]"
   ]
  },
  {
   "cell_type": "markdown",
   "id": "896c6ad0-8961-41af-aff1-cb6f870b084c",
   "metadata": {},
   "source": [
    "## Question 8. An integer array original is transformed into a **doubled** array changed by appending **twice the value** of every element in original, and then randomly **shuffling** the resulting array.\n",
    "\n",
    "## Given an array changed, return original if changed is a doubled array. If changed is not a doubled array, return an empty array. The elements in original may be returned in any order."
   ]
  },
  {
   "cell_type": "code",
   "execution_count": 5,
   "id": "b5d5d4fe-cd66-4a44-afcc-828785aa05b5",
   "metadata": {},
   "outputs": [],
   "source": [
    "from collections import Counter\n",
    "\n",
    "def findOriginalArray(changed):\n",
    "    if len(changed) % 2 != 0:\n",
    "        return []\n",
    "    \n",
    "    count = Counter(changed)\n",
    "    original = []\n",
    "    \n",
    "    for num in sorted(changed, reverse=True):\n",
    "        if count[num] == 0:\n",
    "            continue\n",
    "        \n",
    "        count[num] -= 1\n",
    "        if count[2 * num] == 0:\n",
    "            return []\n",
    "        \n",
    "        count[2 * num] -= 1\n",
    "        original.append(num)\n",
    "    \n",
    "    return original"
   ]
  },
  {
   "cell_type": "code",
   "execution_count": null,
   "id": "ebe89324-2619-47ed-95e3-572f29a1316a",
   "metadata": {},
   "outputs": [],
   "source": []
  }
 ],
 "metadata": {
  "kernelspec": {
   "display_name": "Python 3 (ipykernel)",
   "language": "python",
   "name": "python3"
  },
  "language_info": {
   "codemirror_mode": {
    "name": "ipython",
    "version": 3
   },
   "file_extension": ".py",
   "mimetype": "text/x-python",
   "name": "python",
   "nbconvert_exporter": "python",
   "pygments_lexer": "ipython3",
   "version": "3.10.8"
  }
 },
 "nbformat": 4,
 "nbformat_minor": 5
}
