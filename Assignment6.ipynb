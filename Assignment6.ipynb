{
 "cells": [
  {
   "cell_type": "markdown",
   "id": "16b3e370-4efe-4c90-b9b1-25ee3c4f960d",
   "metadata": {},
   "source": [
    "## Question 1.  A permutation perm of n + 1 integers of all the integers in the range [0, n] can be represented as a string s of length n where:\n",
    "\n",
    "- s[i] == 'I' if perm[i] < perm[i + 1], and\n",
    "- s[i] == 'D' if perm[i] > perm[i + 1].\n",
    "\n",
    "### Given a string s, reconstruct the permutation perm and return it. If there are multiple valid permutations perm, return **any of them**."
   ]
  },
  {
   "cell_type": "code",
   "execution_count": 1,
   "id": "76e3cb28-20da-498c-a562-89461341c288",
   "metadata": {},
   "outputs": [
    {
     "name": "stdout",
     "output_type": "stream",
     "text": [
      "[0, 0, 1, -1, 2, -2, -3, -4]\n"
     ]
    }
   ],
   "source": [
    "def find_permutation(s):\n",
    "    n = len(s)\n",
    "    perm = [0] * (n + 1)\n",
    "    left = right = 0\n",
    "    for i in range(n):\n",
    "        if s[i] == 'I':\n",
    "            perm[i] = right\n",
    "            right += 1\n",
    "        else:\n",
    "            perm[i] = left\n",
    "            left -= 1\n",
    "    perm[n] = left\n",
    "    return perm\n",
    "\n",
    "# Example usage:\n",
    "s = \"IDIDIDD\"\n",
    "perm = find_permutation(s)\n",
    "print(perm)"
   ]
  },
  {
   "cell_type": "markdown",
   "id": "27644bd6-5e88-4d49-a6d9-8f163bd97abd",
   "metadata": {},
   "source": [
    "## Question 2. You are given an m x n integer matrix matrix with the following two properties:\n",
    "\n",
    "- Each row is sorted in non-decreasing order.\n",
    "- The first integer of each row is greater than the last integer of the previous row.\n",
    "\n",
    "### Given an integer target, return true if target is in matrix or false otherwise.\n",
    "\n",
    "### You must write a solution in O(log(m * n)) time complexity."
   ]
  },
  {
   "cell_type": "code",
   "execution_count": 2,
   "id": "e45dec93-afbe-4425-b960-cbb9f5f11778",
   "metadata": {},
   "outputs": [],
   "source": [
    "def searchMatrix(matrix, target):\n",
    "    if not matrix or not matrix[0]:\n",
    "        return False\n",
    "\n",
    "    rows = len(matrix)\n",
    "    cols = len(matrix[0])\n",
    "    left = 0\n",
    "    right = rows * cols - 1\n",
    "\n",
    "    while left <= right:\n",
    "        mid = (left + right) // 2\n",
    "        num = matrix[mid // cols][mid % cols]\n",
    "        if num == target:\n",
    "            return True\n",
    "        elif num < target:\n",
    "            left = mid + 1\n",
    "        else:\n",
    "            right = mid - 1\n",
    "\n",
    "    return False"
   ]
  },
  {
   "cell_type": "markdown",
   "id": "e5d93476-47c8-4dc3-9ecc-43fb12fe2e98",
   "metadata": {},
   "source": [
    "## Question 3. Given an array of integers arr, return *true if and only if it is a valid mountain array*.\n",
    "\n",
    "### Recall that arr is a mountain array if and only if:\n",
    "\n",
    "- arr.length >= 3\n",
    "- There exists some i with 0 < i < arr.length - 1 such that:\n",
    "    - arr[0] < arr[1] < ... < arr[i - 1] < arr[i]\n",
    "    - arr[i] > arr[i + 1] > ... > arr[arr.length - 1]"
   ]
  },
  {
   "cell_type": "code",
   "execution_count": 3,
   "id": "b2e698d0-3073-4a79-8e77-7f574a2b6008",
   "metadata": {},
   "outputs": [],
   "source": [
    "def validMountainArray(arr):\n",
    "    if len(arr) < 3:\n",
    "        return False\n",
    "\n",
    "    peak_found = False\n",
    "    uphill = True\n",
    "\n",
    "    for i in range(1, len(arr)):\n",
    "        if arr[i] == arr[i - 1]:\n",
    "            return False\n",
    "\n",
    "        if uphill:\n",
    "            if arr[i] < arr[i - 1]:\n",
    "                if i == 1:\n",
    "                    return False\n",
    "                uphill = False\n",
    "        else:\n",
    "            if arr[i] > arr[i - 1]:\n",
    "                return False\n",
    "\n",
    "        if not peak_found and not uphill:\n",
    "            peak_found = True\n",
    "\n",
    "    return uphill == False and peak_found"
   ]
  },
  {
   "cell_type": "markdown",
   "id": "568b2126-c858-487a-aed3-0aa7bb34c6a9",
   "metadata": {},
   "source": [
    "## Question 4. Given a binary array nums, return the maximum length of a contiguous subarray with an equal number of 0 and 1."
   ]
  },
  {
   "cell_type": "code",
   "execution_count": 5,
   "id": "e319cded-6f7a-4606-96b5-e529c8b5a48a",
   "metadata": {},
   "outputs": [],
   "source": [
    "def findMaxLength(nums):\n",
    "    max_length = 0\n",
    "    count = 0\n",
    "    count_dict = {0: -1}  # Initialize a dictionary to store the count and its corresponding index\n",
    "\n",
    "    for i in range(len(nums)):\n",
    "        if nums[i] == 1:\n",
    "            count += 1\n",
    "        else:\n",
    "            count -= 1\n",
    "\n",
    "        if count in count_dict:\n",
    "            max_length = max(max_length, i - count_dict[count])\n",
    "        else:\n",
    "            count_dict[count] = i\n",
    "\n",
    "    return max_length"
   ]
  },
  {
   "cell_type": "markdown",
   "id": "aeb777d3-0b2c-43c1-897b-a005043e81b0",
   "metadata": {},
   "source": [
    "## Question 5. The product sum of two equal-length arrays a and b is equal to the sum of a[i] * b[i] for all 0 <= i < a.length (0-indexed).\n",
    "\n",
    "- For example, if a = [1,2,3,4] and b = [5,2,3,1], the product sum would be 1*5 + 2*2 + 3*3 + 4*1 = 22.\n",
    "\n",
    "### Given two arrays nums1 and nums2 of length n, return *the **minimum product sum** if you are allowed to rearrange the order of the elements in nums1."
   ]
  },
  {
   "cell_type": "code",
   "execution_count": 6,
   "id": "1921ad4b-d8b3-4aca-ade7-565a042195f3",
   "metadata": {},
   "outputs": [],
   "source": [
    "def minProductSum(nums1, nums2):\n",
    "    nums1.sort()  # Sort nums1 in ascending order\n",
    "    nums2.sort(reverse=True)  # Sort nums2 in descending order\n",
    "\n",
    "    product_sum = sum(nums1[i] * nums2[i] for i in range(len(nums1)))\n",
    "\n",
    "    return product_sum"
   ]
  },
  {
   "cell_type": "markdown",
   "id": "d2ad6bba-64c3-453c-bed0-476f493f3110",
   "metadata": {},
   "source": [
    "## Question 6. An integer array original is transformed into a doubled array changed by appending twice the value of every element in original, and then randomly shuffling the resulting array.\n",
    "\n",
    "### Given an array changed, return original if changed is a doubled array. If changed is not a doubled array, return an empty array. The elements in* original may be returned in any order."
   ]
  },
  {
   "cell_type": "code",
   "execution_count": 7,
   "id": "9b33724a-d897-40d3-9a0c-52f60257f863",
   "metadata": {},
   "outputs": [],
   "source": [
    "def findOriginalArray(changed):\n",
    "    if len(changed) % 2 != 0:\n",
    "        return []\n",
    "\n",
    "    freq_map = {}\n",
    "    original = []\n",
    "\n",
    "    for num in changed:\n",
    "        if num % 2 != 0:\n",
    "            return []\n",
    "\n",
    "        half = num // 2\n",
    "        if half in freq_map and freq_map[half] > 0:\n",
    "            original.append(half)\n",
    "            freq_map[half] -= 1\n",
    "        else:\n",
    "            freq_map[num] = freq_map.get(num, 0) + 1\n",
    "\n",
    "    if len(original) != len(changed) // 2:\n",
    "        return []\n",
    "\n",
    "    return original"
   ]
  },
  {
   "cell_type": "markdown",
   "id": "1cd7d3af-fedf-4674-87c4-c1775f4941e2",
   "metadata": {},
   "source": [
    "## Question 7. Given a positive integer n, generate an n x n matrix filled with elements from 1 to n2 in spiral order."
   ]
  },
  {
   "cell_type": "code",
   "execution_count": 8,
   "id": "8c1534e9-f5b5-4edf-a1af-ffc7a234e031",
   "metadata": {},
   "outputs": [],
   "source": [
    "def generateMatrix(n):\n",
    "    matrix = [[0] * n for _ in range(n)]\n",
    "    num = 1\n",
    "    top, bottom, left, right = 0, n - 1, 0, n - 1\n",
    "\n",
    "    while num <= n * n:\n",
    "        # Fill the top row\n",
    "        for i in range(left, right + 1):\n",
    "            matrix[top][i] = num\n",
    "            num += 1\n",
    "        top += 1\n",
    "\n",
    "        # Fill the right column\n",
    "        for i in range(top, bottom + 1):\n",
    "            matrix[i][right] = num\n",
    "            num += 1\n",
    "        right -= 1\n",
    "\n",
    "        # Fill the bottom row\n",
    "        for i in range(right, left - 1, -1):\n",
    "            matrix[bottom][i] = num\n",
    "            num += 1\n",
    "        bottom -= 1\n",
    "\n",
    "        # Fill the left column\n",
    "        for i in range(bottom, top - 1, -1):\n",
    "            matrix[i][left] = num\n",
    "            num += 1\n",
    "        left += 1\n",
    "\n",
    "    return matrix"
   ]
  },
  {
   "cell_type": "markdown",
   "id": "19770d9a-367e-4f78-b6b1-ca62046cb2d7",
   "metadata": {},
   "source": [
    "## Question 8. Given two [sparse matrices](https://en.wikipedia.org/wiki/Sparse_matrix) mat1 of size m x k and mat2 of size k x n, return the result of mat1 x mat2. You may assume that multiplication is always possible."
   ]
  },
  {
   "cell_type": "code",
   "execution_count": 1,
   "id": "16b2d6f3-8e7b-4c7e-8d2a-1440505ac185",
   "metadata": {},
   "outputs": [],
   "source": [
    "from collections import defaultdict\n",
    "\n",
    "def multiply(mat1, mat2):\n",
    "    m, k = len(mat1), len(mat1[0])\n",
    "    n = len(mat2[0])\n",
    "\n",
    "    result = [[0] * n for _ in range(m)]\n",
    "    mat2_cols = defaultdict(list)\n",
    "\n",
    "    for i in range(k):\n",
    "        for j in range(n):\n",
    "            if mat2[i][j] != 0:\n",
    "                mat2_cols[j].append((i, mat2[i][j]))\n",
    "\n",
    "    for i in range(m):\n",
    "        for j in range(k):\n",
    "            if mat1[i][j] != 0:\n",
    "                for col, val in mat2_cols.items():\n",
    "                    for row, value in val:\n",
    "                        result[i][col] += mat1[i][j] * value\n",
    "\n",
    "    return result"
   ]
  },
  {
   "cell_type": "code",
   "execution_count": null,
   "id": "565068ff-fa60-4027-96a2-ea45b39b1bc3",
   "metadata": {},
   "outputs": [],
   "source": []
  }
 ],
 "metadata": {
  "kernelspec": {
   "display_name": "Python 3 (ipykernel)",
   "language": "python",
   "name": "python3"
  },
  "language_info": {
   "codemirror_mode": {
    "name": "ipython",
    "version": 3
   },
   "file_extension": ".py",
   "mimetype": "text/x-python",
   "name": "python",
   "nbconvert_exporter": "python",
   "pygments_lexer": "ipython3",
   "version": "3.10.8"
  }
 },
 "nbformat": 4,
 "nbformat_minor": 5
}
