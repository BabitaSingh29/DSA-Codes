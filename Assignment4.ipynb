{
 "cells": [
  {
   "cell_type": "markdown",
   "id": "5e5ec343-1343-440a-aedd-57a1ff2f7c7b",
   "metadata": {},
   "source": [
    "## Question 1. Given three integer arrays arr1, arr2 and arr3 sorted in strictly increasing order, return a sorted array of only the integers that appeared in all three arrays.\n",
    "\n",
    "#### Example 1:\n",
    "\n",
    "#### Input: arr1 = [1,2,3,4,5], arr2 = [1,2,5,7,9], arr3 = [1,3,4,5,8]\n",
    "\n",
    "#### Output: [1,5]\n",
    "\n"
   ]
  },
  {
   "cell_type": "code",
   "execution_count": 1,
   "id": "307bc7f1-5d4b-4c2c-9294-02d249f37ddd",
   "metadata": {},
   "outputs": [],
   "source": [
    "def arraysIntersection(arr1, arr2, arr3):\n",
    "    result = []\n",
    "    i, j, k = 0, 0, 0\n",
    "\n",
    "    # Iterate until any of the arrays is exhausted\n",
    "    while i < len(arr1) and j < len(arr2) and k < len(arr3):\n",
    "        if arr1[i] == arr2[j] == arr3[k]:\n",
    "            result.append(arr1[i])\n",
    "            i += 1\n",
    "            j += 1\n",
    "            k += 1\n",
    "        elif arr1[i] < arr2[j]:\n",
    "            i += 1\n",
    "        elif arr2[j] < arr3[k]:\n",
    "            j += 1\n",
    "        else:\n",
    "            k += 1\n",
    "\n",
    "    return result"
   ]
  },
  {
   "cell_type": "code",
   "execution_count": 2,
   "id": "9d3936d3-1dd3-4d71-adba-0b5927b7a8b8",
   "metadata": {},
   "outputs": [
    {
     "name": "stdout",
     "output_type": "stream",
     "text": [
      "[1, 5]\n"
     ]
    }
   ],
   "source": [
    "arr1 = [1, 2, 3, 4, 5]\n",
    "arr2 = [1, 2, 5, 7, 9]\n",
    "arr3 = [1, 3, 4, 5, 8]\n",
    "result = arraysIntersection(arr1, arr2, arr3)\n",
    "print(result) "
   ]
  },
  {
   "cell_type": "markdown",
   "id": "858ef911-311b-403d-a47f-1c666f8b6b27",
   "metadata": {},
   "source": [
    "## Question 2. Given two 0-indexed integer arrays nums1 and nums2, return a list answer of size 2 where:\n",
    "\n",
    "- answer[0] is a list of all distinct integers in nums1 which are not present in nums2.\n",
    "- answer[1] is a list of all distinct integers in nums2 which are not present in nums1.\n",
    "\n",
    "#### Note that the integers in the lists may be returned in **any** order.\n",
    "\n",
    "#### Example 1:\n",
    "\n",
    "#### Input: nums1 = [1,2,3], nums2 = [2,4,6]\n",
    "\n",
    "#### Output: [[1,3],[4,6]]\n",
    "\n"
   ]
  },
  {
   "cell_type": "code",
   "execution_count": null,
   "id": "9bd37e47-3a5e-4ef3-888a-b6052033da36",
   "metadata": {},
   "outputs": [],
   "source": [
    "def findDisappearedNumbers(nums1, nums2):\n",
    "    nums1_set = set(nums1)\n",
    "    nums2_set = set(nums2)\n",
    "    \n",
    "    unique_nums1 = [num for num in nums1 if num not in nums2_set]\n",
    "    unique_nums2 = [num for num in nums2 if num not in nums1_set]\n",
    "    \n",
    "    return [unique_nums1, unique_nums2]"
   ]
  },
  {
   "cell_type": "code",
   "execution_count": null,
   "id": "8c3a3682-b599-4d09-a2d1-7aab99a5822f",
   "metadata": {},
   "outputs": [],
   "source": [
    "nums1 = [1, 2, 3]\n",
    "nums2 = [2, 4, 6]\n",
    "result = findDisappearedNumbers(nums1, nums2)\n",
    "print(result)"
   ]
  },
  {
   "cell_type": "markdown",
   "id": "f8870c8b-37c9-48fd-81e2-43522582e9c8",
   "metadata": {},
   "source": [
    "## Question 3. Given a 2D integer array matrix, return *the **transpose** of* matrix.\n",
    "\n",
    "## The transpose of a matrix is the matrix flipped over its main diagonal, switching the matrix's row and column indices.\n",
    "\n",
    "#### Example 1:\n",
    "\n",
    "#### Input: matrix = [[1,2,3],[4,5,6],[7,8,9]]\n",
    "\n",
    "#### Output: [[1,4,7],[2,5,8],[3,6,9]]\n",
    "\n"
   ]
  },
  {
   "cell_type": "code",
   "execution_count": null,
   "id": "3fe0353f-aca2-4a36-adde-30437daa583b",
   "metadata": {},
   "outputs": [],
   "source": [
    "def transpose(matrix):\n",
    "    rows = len(matrix)\n",
    "    cols = len(matrix[0])\n",
    "    \n",
    "    # Create a new matrix with swapped dimensions\n",
    "    transposed = [[0 for _ in range(rows)] for _ in range(cols)]\n",
    "    \n",
    "    # Iterate over the rows and columns of the original matrix\n",
    "    for i in range(rows):\n",
    "        for j in range(cols):\n",
    "            # Swap elements at corresponding positions\n",
    "            transposed[j][i] = matrix[i][j]\n",
    "    \n",
    "    return transposed"
   ]
  },
  {
   "cell_type": "code",
   "execution_count": null,
   "id": "51e54f6a-6aa8-4f46-91b5-a2e2b41be67a",
   "metadata": {},
   "outputs": [],
   "source": [
    "matrix = [[1, 2, 3], [4, 5, 6], [7, 8, 9]]\n",
    "result = transpose(matrix)\n",
    "print(result) "
   ]
  },
  {
   "cell_type": "markdown",
   "id": "a6f58759-71fa-4512-b7f9-bce77693ddeb",
   "metadata": {},
   "source": [
    "## Question 4. Given an integer array nums of 2n integers, group these integers into n pairs (a1, b1), (a2, b2), ..., (an, bn) such that the sum of min(ai, bi) for all i is **maximized**. Return *the maximized sum*.\n",
    "\n",
    "#### Example 1:\n",
    "\n",
    "#### Input: nums = [1,4,3,2]\n",
    "\n",
    "#### Output: 4\n",
    "\n"
   ]
  },
  {
   "cell_type": "code",
   "execution_count": null,
   "id": "235a1c1c-0681-428d-8192-d1730889736b",
   "metadata": {},
   "outputs": [],
   "source": [
    "def arrayPairSum(nums):\n",
    "    # Sort the array in ascending order\n",
    "    nums.sort()\n",
    "    \n",
    "    # Sum the minimum element in each pair\n",
    "    pair_sum = sum(nums[::2])\n",
    "    \n",
    "    return pair_sum"
   ]
  },
  {
   "cell_type": "code",
   "execution_count": null,
   "id": "2345e9ca-2485-4de1-8796-b5d77a3c0500",
   "metadata": {},
   "outputs": [],
   "source": [
    "nums = [1, 4, 3, 2]\n",
    "result = arrayPairSum(nums)\n",
    "print(result)"
   ]
  },
  {
   "cell_type": "markdown",
   "id": "4d2cc7a5-97f3-47f8-86ee-77a191eab320",
   "metadata": {},
   "source": [
    "## Question 5. You have n coins and you want to build a staircase with these coins. The staircase consists of k rows where the ith row has exactly i coins. The last row of the staircase **may be** incomplete.\n",
    "\n",
    "### Given the integer n, return the number of complete rows of the staircase you will build."
   ]
  },
  {
   "cell_type": "code",
   "execution_count": null,
   "id": "dfb78695-f773-466d-b7a7-8484de5a27e0",
   "metadata": {},
   "outputs": [],
   "source": [
    "def arrangeCoins(n):\n",
    "    left, right = 0, n\n",
    "    \n",
    "    while left <= right:\n",
    "        mid = left + (right - left) // 2\n",
    "        curr = mid * (mid + 1) // 2\n",
    "        \n",
    "        if curr == n:\n",
    "            return mid\n",
    "        elif curr < n:\n",
    "            left = mid + 1\n",
    "        else:\n",
    "            right = mid - 1\n",
    "    \n",
    "    return right"
   ]
  },
  {
   "cell_type": "code",
   "execution_count": null,
   "id": "a90b945e-b491-4fbc-b838-b8c3a5e4b267",
   "metadata": {},
   "outputs": [],
   "source": [
    "n = 5\n",
    "result = arrangeCoins(n)\n",
    "print(result)"
   ]
  },
  {
   "cell_type": "markdown",
   "id": "d7b85929-06c4-4a6a-bd09-0f6dbde058e1",
   "metadata": {},
   "source": [
    "## Question 6. Given an integer array nums sorted in **non-decreasing** order, return *an array of **the squares of each number** sorted in non-decreasing order*.\n",
    "\n",
    "#### Example 1:\n",
    "\n",
    "#### Input: nums = [-4,-1,0,3,10]\n",
    "\n",
    "#### Output: [0,1,9,16,100]"
   ]
  },
  {
   "cell_type": "code",
   "execution_count": null,
   "id": "41a52ded-be35-44b1-880b-ec9d9faeaaf9",
   "metadata": {},
   "outputs": [],
   "source": [
    "def sortedSquares(nums):\n",
    "    n = len(nums)\n",
    "    result = [0] * n\n",
    "    \n",
    "    left = 0\n",
    "    right = n - 1\n",
    "    idx = n - 1\n",
    "    \n",
    "    while left <= right:\n",
    "        if abs(nums[left]) > abs(nums[right]):\n",
    "            result[idx] = nums[left] * nums[left]\n",
    "            left += 1\n",
    "        else:\n",
    "            result[idx] = nums[right] * nums[right]\n",
    "            right -= 1\n",
    "        \n",
    "        idx -= 1\n",
    "    \n",
    "    return result"
   ]
  },
  {
   "cell_type": "code",
   "execution_count": null,
   "id": "a239cb99-85da-4c85-a27f-8d7d75f8904d",
   "metadata": {},
   "outputs": [],
   "source": [
    "nums = [-4, -1, 0, 3, 10]\n",
    "result = sortedSquares(nums)\n",
    "print(result) "
   ]
  },
  {
   "cell_type": "markdown",
   "id": "03404eb2-2702-4f66-b451-84b1dce7320b",
   "metadata": {},
   "source": [
    "## Question 7. You are given an m x n matrix M initialized with all 0's and an array of operations ops, where ops[i] = [ai, bi] means M[x][y] should be incremented by one for all 0 <= x < ai and 0 <= y < bi.\n",
    "\n",
    "### Count and return the number of maximum integers in the matrix after performing all the operations."
   ]
  },
  {
   "cell_type": "code",
   "execution_count": 1,
   "id": "a8b143ce-15b0-4d93-aa10-e0c69094def8",
   "metadata": {},
   "outputs": [],
   "source": [
    "def maxCount(m, n, ops):\n",
    "    if not ops:\n",
    "        return m * n\n",
    "    \n",
    "    min_row = min(op[0] for op in ops)\n",
    "    min_col = min(op[1] for op in ops)\n",
    "    \n",
    "    return min_row * min_col"
   ]
  },
  {
   "cell_type": "code",
   "execution_count": 2,
   "id": "39433637-b077-44ce-8dc8-d1a6e7c01407",
   "metadata": {},
   "outputs": [
    {
     "name": "stdout",
     "output_type": "stream",
     "text": [
      "4\n"
     ]
    }
   ],
   "source": [
    "m = 3\n",
    "n = 3\n",
    "ops = [[2, 2], [3, 3]]\n",
    "result = maxCount(m, n, ops)\n",
    "print(result)"
   ]
  },
  {
   "cell_type": "markdown",
   "id": "bf682a81-17d1-42d5-8c77-4f259444ed26",
   "metadata": {},
   "source": [
    "## Question 8. Given the array nums consisting of 2n elements in the form [x1,x2,...,xn,y1,y2,...,yn].\n",
    "\n",
    "## Return the array in the form* [x1,y1,x2,y2,...,xn,yn].\n",
    "\n",
    "#### Example 1:\n",
    "\n",
    "#### Input: nums = [2,5,1,3,4,7], n = 3\n",
    "\n",
    "#### Output: [2,3,5,4,1,7]\n",
    "\n"
   ]
  },
  {
   "cell_type": "code",
   "execution_count": 3,
   "id": "662dd94e-8cea-417a-a604-0d0517562578",
   "metadata": {},
   "outputs": [],
   "source": [
    "def shuffle(nums, n):\n",
    "    result = []\n",
    "    for i in range(n):\n",
    "        result.append(nums[i])\n",
    "        result.append(nums[i + n])\n",
    "    return result"
   ]
  },
  {
   "cell_type": "code",
   "execution_count": 4,
   "id": "132f8132-a93d-493f-a7ef-8d3eb8c86dda",
   "metadata": {},
   "outputs": [
    {
     "name": "stdout",
     "output_type": "stream",
     "text": [
      "[2, 3, 5, 4, 1, 7]\n"
     ]
    }
   ],
   "source": [
    "nums = [2, 5, 1, 3, 4, 7]\n",
    "n = 3\n",
    "result = shuffle(nums, n)\n",
    "print(result)"
   ]
  },
  {
   "cell_type": "code",
   "execution_count": null,
   "id": "b79d051e-fdf0-4462-a9fe-6eaef69c9446",
   "metadata": {},
   "outputs": [],
   "source": []
  }
 ],
 "metadata": {
  "kernelspec": {
   "display_name": "Python 3 (ipykernel)",
   "language": "python",
   "name": "python3"
  },
  "language_info": {
   "codemirror_mode": {
    "name": "ipython",
    "version": 3
   },
   "file_extension": ".py",
   "mimetype": "text/x-python",
   "name": "python",
   "nbconvert_exporter": "python",
   "pygments_lexer": "ipython3",
   "version": "3.10.8"
  }
 },
 "nbformat": 4,
 "nbformat_minor": 5
}
