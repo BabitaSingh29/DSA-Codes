{
 "cells": [
  {
   "cell_type": "markdown",
   "id": "656deb40-3e6d-494b-8e98-b61d140f9186",
   "metadata": {},
   "source": [
    "## Question 1. Given an integer array nums of length n and an integer target, find three integers in nums such that the sum is closest to the target.\n",
    "## Return the sum of the three integers.\n",
    "\n",
    "### You may assume that each input would have exactly one solution.\n",
    "\n",
    "#### Example 1:\n",
    "#### Input: nums = [-1,2,1,-4], target = 1\n",
    "#### Output: 2\n",
    "\n",
    "#### Explanation: The sum that is closest to the target is 2. (-1 + 2 + 1 = 2)."
   ]
  },
  {
   "cell_type": "code",
   "execution_count": 1,
   "id": "7173514e-dd05-4050-8649-65c2ba5895cf",
   "metadata": {},
   "outputs": [],
   "source": [
    "def threeSumClosest(nums, target):\n",
    "    nums.sort()  # Sort the array in ascending order\n",
    "    closest_sum = float('inf')  # Initialize the closest sum as positive infinity\n",
    "\n",
    "    for i in range(len(nums) - 2):\n",
    "        left = i + 1\n",
    "        right = len(nums) - 1\n",
    "\n",
    "        while left < right:\n",
    "            current_sum = nums[i] + nums[left] + nums[right]\n",
    "            \n",
    "            if current_sum == target:\n",
    "                return current_sum\n",
    "            \n",
    "            # Update the closest sum if the current sum is closer to the target\n",
    "            if abs(current_sum - target) < abs(closest_sum - target):\n",
    "                closest_sum = current_sum\n",
    "            \n",
    "            if current_sum < target:\n",
    "                left += 1  # Move the left pointer to increase the sum\n",
    "            else:\n",
    "                right -= 1  # Move the right pointer to decrease the sum\n",
    "    \n",
    "    return closest_sum"
   ]
  },
  {
   "cell_type": "code",
   "execution_count": 2,
   "id": "816f1e85-067c-46c0-8912-e3567429514f",
   "metadata": {},
   "outputs": [
    {
     "name": "stdout",
     "output_type": "stream",
     "text": [
      "2\n"
     ]
    }
   ],
   "source": [
    "nums = [-1, 2, 1, -4]\n",
    "target = 1\n",
    "result = threeSumClosest(nums, target)\n",
    "print(result)"
   ]
  },
  {
   "cell_type": "markdown",
   "id": "f5b91890-6106-49ba-bf6b-3d956b0c73e9",
   "metadata": {},
   "source": [
    "## Question 2. Given an array nums of n integers, return an array of all the unique quadruplets [nums[a], nums[b], nums[c], nums[d]] such that:\n",
    "           ● 0 <= a, b, c, d < n\n",
    "           ● a, b, c, and d are distinct.\n",
    "           ● nums[a] + nums[b] + nums[c] + nums[d] == target\n",
    "\n",
    "### You may return the answer in any order.\n",
    "\n",
    "#### Example 1:\n",
    "#### Input: nums = [1,0,-1,0,-2,2], target = 0\n",
    "#### Output: [[-2,-1,1,2],[-2,0,0,2],[-1,0,0,1]]"
   ]
  },
  {
   "cell_type": "code",
   "execution_count": 3,
   "id": "7935dbc9-e5df-4edd-9705-0f3e62f24957",
   "metadata": {},
   "outputs": [],
   "source": [
    "def fourSum(nums, target):\n",
    "    nums.sort()  # Sort the array in ascending order\n",
    "    result = []\n",
    "    n = len(nums)\n",
    "\n",
    "    for i in range(n - 3):\n",
    "        # Skip duplicate values for the first element\n",
    "        if i > 0 and nums[i] == nums[i - 1]:\n",
    "            continue\n",
    "\n",
    "        for j in range(i + 1, n - 2):\n",
    "            # Skip duplicate values for the second element\n",
    "            if j > i + 1 and nums[j] == nums[j - 1]:\n",
    "                continue\n",
    "\n",
    "            left = j + 1\n",
    "            right = n - 1\n",
    "\n",
    "            while left < right:\n",
    "                current_sum = nums[i] + nums[j] + nums[left] + nums[right]\n",
    "\n",
    "                if current_sum == target:\n",
    "                    result.append([nums[i], nums[j], nums[left], nums[right]])\n",
    "\n",
    "                    # Skip duplicate values for the third and fourth elements\n",
    "                    while left < right and nums[left] == nums[left + 1]:\n",
    "                        left += 1\n",
    "                    while left < right and nums[right] == nums[right - 1]:\n",
    "                        right -= 1\n",
    "\n",
    "                    left += 1\n",
    "                    right -= 1\n",
    "                elif current_sum < target:\n",
    "                    left += 1\n",
    "                else:\n",
    "                    right -= 1\n",
    "\n",
    "    return result"
   ]
  },
  {
   "cell_type": "code",
   "execution_count": 4,
   "id": "4338672a-91de-4b57-bb65-06223b9b74eb",
   "metadata": {},
   "outputs": [
    {
     "name": "stdout",
     "output_type": "stream",
     "text": [
      "[[-2, -1, 1, 2], [-2, 0, 0, 2], [-1, 0, 0, 1]]\n"
     ]
    }
   ],
   "source": [
    "nums = [1, 0, -1, 0, -2, 2]\n",
    "target = 0\n",
    "result = fourSum(nums, target)\n",
    "print(result) "
   ]
  },
  {
   "cell_type": "markdown",
   "id": "cb8ffa36-0cb5-4d7a-8064-2ac2dfcc6b22",
   "metadata": {},
   "source": [
    "## Question 3. A permutation of an array of integers is an arrangement of its members into a sequence or linear order.\n",
    "\n",
    "#### For example, for arr = [1,2,3], the following are all the permutations of arr:\n",
    "[1,2,3], [1,3,2], [2, 1, 3], [2, 3, 1], [3,1,2], [3,2,1].\n",
    "\n",
    "### The next permutation of an array of integers is the next lexicographically greater permutation of its integer. More formally, if all the permutations of the array are sorted in one container according to their lexicographical order, then the next permutation of that array is the permutation that follows it in the sorted container.\n",
    "\n",
    "### If such an arrangement is not possible, the array must be rearranged as the lowest possible order (i.e., sorted in ascending order).\n",
    "\n",
    "● For example, the next permutation of arr = [1,2,3] is [1,3,2].\n",
    "● Similarly, the next permutation of arr = [2,3,1] is [3,1,2].\n",
    "● While the next permutation of arr = [3,2,1] is [1,2,3] because [3,2,1] does not have a lexicographical larger rearrangement.\n",
    "\n",
    "### Given an array of integers nums, find the next permutation of nums. The replacement must be in place and use only constant extra memory.\n",
    "\n",
    "#### Example 1:\n",
    "#### Input: nums = [1,2,3]\n",
    "#### Output: [1,3,2]"
   ]
  },
  {
   "cell_type": "code",
   "execution_count": 5,
   "id": "3dc4921c-5605-4821-9245-3121e57278a6",
   "metadata": {},
   "outputs": [],
   "source": [
    "def nextPermutation(nums):\n",
    "    # Find the first pair of adjacent elements from right to left\n",
    "    # where nums[i] < nums[i+1]\n",
    "    i = len(nums) - 2\n",
    "    while i >= 0 and nums[i] >= nums[i + 1]:\n",
    "        i -= 1\n",
    "\n",
    "    if i >= 0:\n",
    "        # Find the smallest element in the subarray nums[i+1:]\n",
    "        # that is greater than nums[i]\n",
    "        j = len(nums) - 1\n",
    "        while j > i and nums[j] <= nums[i]:\n",
    "            j -= 1\n",
    "        # Swap nums[i] with nums[j]\n",
    "        nums[i], nums[j] = nums[j], nums[i]\n",
    "\n",
    "    # Reverse the subarray nums[i+1:]\n",
    "    left = i + 1\n",
    "    right = len(nums) - 1\n",
    "    while left < right:\n",
    "        nums[left], nums[right] = nums[right], nums[left]\n",
    "        left += 1\n",
    "        right -= 1\n",
    "\n",
    "    return nums"
   ]
  },
  {
   "cell_type": "code",
   "execution_count": 6,
   "id": "a66e470f-f442-440f-94c8-50e0a5bad3ac",
   "metadata": {},
   "outputs": [
    {
     "name": "stdout",
     "output_type": "stream",
     "text": [
      "[1, 3, 2]\n"
     ]
    }
   ],
   "source": [
    "nums = [1, 2, 3]\n",
    "result = nextPermutation(nums)\n",
    "print(result)"
   ]
  },
  {
   "cell_type": "markdown",
   "id": "17feea8a-44ba-4a2b-899f-c2899acb6fdf",
   "metadata": {},
   "source": [
    "## Question 4. Given a sorted array of distinct integers and a target value, return the index if the target is found. If not, return the index where it would be if it were inserted in order.\n",
    "\n",
    "### You must write an algorithm with O(log n) runtime complexity.\n",
    "\n",
    "#### Example 1:\n",
    "#### Input: nums = [1,3,5,6], target = 5\n",
    "#### Output: 2"
   ]
  },
  {
   "cell_type": "code",
   "execution_count": 7,
   "id": "53f7ad0f-71af-474f-b2e1-7d0ba09228b9",
   "metadata": {},
   "outputs": [],
   "source": [
    "def searchInsert(nums, target):\n",
    "    left = 0\n",
    "    right = len(nums) - 1\n",
    "\n",
    "    while left <= right:\n",
    "        mid = (left + right) // 2\n",
    "\n",
    "        if nums[mid] == target:\n",
    "            return mid\n",
    "        elif nums[mid] < target:\n",
    "            left = mid + 1\n",
    "        else:\n",
    "            right = mid - 1\n",
    "\n",
    "    # If the loop ends, the target is not found in the array\n",
    "    # The left pointer will be the index where the target would be inserted\n",
    "    return left"
   ]
  },
  {
   "cell_type": "code",
   "execution_count": 8,
   "id": "04e5c961-569e-42a0-bb03-dced03b8968d",
   "metadata": {},
   "outputs": [
    {
     "name": "stdout",
     "output_type": "stream",
     "text": [
      "2\n"
     ]
    }
   ],
   "source": [
    "nums = [1, 3, 5, 6]\n",
    "target = 5\n",
    "result = searchInsert(nums, target)\n",
    "print(result)"
   ]
  },
  {
   "cell_type": "markdown",
   "id": "29350eec-255f-4294-ba79-0a5ac7309d63",
   "metadata": {},
   "source": [
    "## Question 5. You are given a large integer represented as an integer array digits, where each digits[i] is the ith digit of the integer. The digits are ordered from most significant to least significant in left-to-right order. The large integer does not contain any leading 0's.\n",
    "\n",
    "### Increment the large integer by one and return the resulting array of digits.\n",
    "\n",
    "#### Example 1:\n",
    "#### Input: digits = [1,2,3]\n",
    "#### Output: [1,2,4]"
   ]
  },
  {
   "cell_type": "code",
   "execution_count": 9,
   "id": "53e14de1-b151-4132-a81f-bec94e57597d",
   "metadata": {},
   "outputs": [],
   "source": [
    "def plusOne(digits):\n",
    "    n = len(digits)\n",
    "\n",
    "    # Start from the least significant digit\n",
    "    for i in range(n - 1, -1, -1):\n",
    "        # Increment the current digit by one\n",
    "        digits[i] += 1\n",
    "\n",
    "        # If the current digit becomes 10, set it to 0 and carry over one to the next digit\n",
    "        if digits[i] == 10:\n",
    "            digits[i] = 0\n",
    "        else:\n",
    "            # If the current digit is not 10, no need to carry over anymore\n",
    "            return digits\n",
    "\n",
    "    # If all digits are 10, add a new leading digit 1\n",
    "    return [1] + digits"
   ]
  },
  {
   "cell_type": "code",
   "execution_count": 10,
   "id": "684571c7-c42a-41e5-8430-402d470a9380",
   "metadata": {},
   "outputs": [
    {
     "name": "stdout",
     "output_type": "stream",
     "text": [
      "[1, 2, 4]\n"
     ]
    }
   ],
   "source": [
    "digits = [1, 2, 3]\n",
    "result = plusOne(digits)\n",
    "print(result) "
   ]
  },
  {
   "cell_type": "markdown",
   "id": "ad13eac8-c270-48fd-9f59-f0048efa903a",
   "metadata": {},
   "source": [
    "## Question 6. Given a non-empty array of integers nums, every element appears twice except for one. Find that single one.\n",
    "\n",
    "### You must implement a solution with a linear runtime complexity and use only constant extra space.\n",
    "\n",
    "#### Example 1:\n",
    "#### Input: nums = [2,2,1]\n",
    "#### Output: 1"
   ]
  },
  {
   "cell_type": "code",
   "execution_count": 11,
   "id": "8cacd7eb-542e-4cfd-b995-058c52f20435",
   "metadata": {},
   "outputs": [],
   "source": [
    "def singleNumber(nums):\n",
    "    result = 0\n",
    "    for num in nums:\n",
    "        result ^= num\n",
    "    return result"
   ]
  },
  {
   "cell_type": "code",
   "execution_count": 12,
   "id": "35d7e58b-8bc8-48e2-9fc2-017175bd9f70",
   "metadata": {},
   "outputs": [
    {
     "name": "stdout",
     "output_type": "stream",
     "text": [
      "1\n"
     ]
    }
   ],
   "source": [
    "nums = [2, 2, 1]\n",
    "result = singleNumber(nums)\n",
    "print(result)"
   ]
  },
  {
   "cell_type": "markdown",
   "id": "6122ef19-e80c-4e65-bc55-f3971bbaab1f",
   "metadata": {},
   "source": [
    "## Question 7. You are given an inclusive range [lower, upper] and a sorted unique integer array nums, where all elements are within the inclusive range.\n",
    "\n",
    "### A number x is considered missing if x is in the range [lower, upper] and x is not in nums.\n",
    "\n",
    "### Return the shortest sorted list of ranges that exactly covers all the missing numbers. That is, no element of nums is included in any of the ranges, and each missing number is covered by one of the ranges.\n",
    "\n",
    "#### Example 1:\n",
    "#### Input: nums = [0,1,3,50,75], lower = 0, upper = 99\n",
    "#### Output: [[2,2],[4,49],[51,74],[76,99]]\n"
   ]
  },
  {
   "cell_type": "code",
   "execution_count": 13,
   "id": "139859b0-e12b-409d-8369-b2240a0c92dc",
   "metadata": {},
   "outputs": [],
   "source": [
    "def findMissingRanges(nums, lower, upper):\n",
    "    missing_ranges = []\n",
    "\n",
    "    # Helper function to add a range to the missing ranges list\n",
    "    def addRange(start, end):\n",
    "        if start == end:\n",
    "            missing_ranges.append([start])\n",
    "        else:\n",
    "            missing_ranges.append([start, end])\n",
    "\n",
    "    # Check if a number is missing between two values\n",
    "    def isMissing(num1, num2):\n",
    "        return num2 - num1 > 1\n",
    "\n",
    "    # Check if a number is within the given range\n",
    "    def isInRange(num):\n",
    "        return lower <= num <= upper\n",
    "\n",
    "    # Find the missing ranges\n",
    "    prev = lower - 1\n",
    "    for num in nums:\n",
    "        if isMissing(prev, num) and isInRange(prev + 1):\n",
    "            addRange(prev + 1, num - 1)\n",
    "        prev = num\n",
    "\n",
    "    # Handle the case after the last number in nums\n",
    "    if isMissing(prev, upper) and isInRange(prev + 1):\n",
    "        addRange(prev + 1, upper)\n",
    "\n",
    "    return missing_ranges"
   ]
  },
  {
   "cell_type": "code",
   "execution_count": 14,
   "id": "94257695-e1fa-4fbd-a1be-7f4e35e47c7c",
   "metadata": {},
   "outputs": [
    {
     "name": "stdout",
     "output_type": "stream",
     "text": [
      "[[2], [4, 49], [51, 74], [76, 99]]\n"
     ]
    }
   ],
   "source": [
    "nums = [0, 1, 3, 50, 75]\n",
    "lower = 0\n",
    "upper = 99\n",
    "result = findMissingRanges(nums, lower, upper)\n",
    "print(result)"
   ]
  },
  {
   "cell_type": "markdown",
   "id": "c83e38eb-b3f0-4e53-ad99-2baa905f5a2c",
   "metadata": {},
   "source": [
    "## Question 8. Given an array of meeting time intervals where intervals[i] = [starti, endi], determine if a person could attend all meetings.\n",
    "\n",
    "#### Example 1:\n",
    "#### Input: intervals = [[0,30],[5,10],[15,20]]\n",
    "#### Output: false"
   ]
  },
  {
   "cell_type": "code",
   "execution_count": 15,
   "id": "f33adcfb-9fc8-4947-9025-8c2a55eeb716",
   "metadata": {},
   "outputs": [],
   "source": [
    "def canAttendMeetings(intervals):\n",
    "    # Sort the intervals based on start times\n",
    "    intervals.sort(key=lambda x: x[0])\n",
    "\n",
    "    # Check for overlaps\n",
    "    for i in range(1, len(intervals)):\n",
    "        if intervals[i][0] < intervals[i-1][1]:\n",
    "            return False\n",
    "\n",
    "    return True"
   ]
  },
  {
   "cell_type": "code",
   "execution_count": 16,
   "id": "2b9829e8-06f1-459d-910e-f325a77694f3",
   "metadata": {},
   "outputs": [
    {
     "name": "stdout",
     "output_type": "stream",
     "text": [
      "False\n"
     ]
    }
   ],
   "source": [
    "intervals = [[0, 30], [5, 10], [15, 20]]\n",
    "result = canAttendMeetings(intervals)\n",
    "print(result)"
   ]
  },
  {
   "cell_type": "code",
   "execution_count": null,
   "id": "c8d495cf-34a1-4be4-9839-02c01d9e195c",
   "metadata": {},
   "outputs": [],
   "source": []
  }
 ],
 "metadata": {
  "kernelspec": {
   "display_name": "Python 3 (ipykernel)",
   "language": "python",
   "name": "python3"
  },
  "language_info": {
   "codemirror_mode": {
    "name": "ipython",
    "version": 3
   },
   "file_extension": ".py",
   "mimetype": "text/x-python",
   "name": "python",
   "nbconvert_exporter": "python",
   "pygments_lexer": "ipython3",
   "version": "3.10.8"
  }
 },
 "nbformat": 4,
 "nbformat_minor": 5
}
