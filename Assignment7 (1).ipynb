{
 "cells": [
  {
   "cell_type": "markdown",
   "id": "7c79611c-f1ad-4b92-bce4-e660aaa319b3",
   "metadata": {},
   "source": [
    "## Question 1. Given two strings s and t, *determine if they are isomorphic*.\n",
    "\n",
    "### Two strings s and t are isomorphic if the characters in s can be replaced to get t.\n",
    "\n",
    "### All occurrences of a character must be replaced with another character while preserving the order of characters. No two characters may map to the same character, but a character may map to itself.\n"
   ]
  },
  {
   "cell_type": "code",
   "execution_count": 1,
   "id": "803e108d-cffd-4f30-8730-fa2a746809bb",
   "metadata": {},
   "outputs": [],
   "source": [
    "def is_isomorphic(s, t):\n",
    "    if len(s) != len(t):\n",
    "        return False\n",
    "\n",
    "    return len(set(zip(s, t))) == len(set(s)) == len(set(t))"
   ]
  },
  {
   "cell_type": "markdown",
   "id": "bd414358-052f-40db-9df2-fd0eb6cdafc0",
   "metadata": {},
   "source": [
    "## Question 2. Given a string num which represents an integer, return true *if* num *is a **strobogrammatic number***.\n",
    "\n",
    "## A strobogrammatic number is a number that looks the same when rotated 180 degrees (looked at upside down)."
   ]
  },
  {
   "cell_type": "code",
   "execution_count": 2,
   "id": "5716c9bc-ed14-40bd-8520-7e9a1a56e4ad",
   "metadata": {},
   "outputs": [],
   "source": [
    "def is_isomorphic(s, t):\n",
    "    if len(s) != len(t):\n",
    "        return False\n",
    "\n",
    "    return len(set(zip(s, t))) == len(set(s)) == len(set(t))"
   ]
  },
  {
   "cell_type": "markdown",
   "id": "ff5f34f4-9a79-449b-b7de-c6d42ee77ea0",
   "metadata": {},
   "source": [
    "## Question 3. Given two non-negative integers, num1 and num2 represented as string, return *the sum of* num1 *and* num2 *as a string*.\n",
    "\n",
    "### You must solve the problem without using any built-in library for handling large integers (such as BigInteger). You must also not convert the inputs to integers directly.\n",
    "\n"
   ]
  },
  {
   "cell_type": "code",
   "execution_count": 3,
   "id": "3699c2f6-2405-4742-93d5-874d5320492d",
   "metadata": {},
   "outputs": [],
   "source": [
    "def add_strings(num1, num2):\n",
    "    # Make sure num1 is the longer string\n",
    "    if len(num1) < len(num2):\n",
    "        num1, num2 = num2, num1\n",
    "\n",
    "    # Pad the shorter string with leading zeros\n",
    "    num2 = num2.zfill(len(num1))\n",
    "\n",
    "    carry = 0\n",
    "    result = []\n",
    "    for i in range(len(num1)-1, -1, -1):\n",
    "        digit_sum = int(num1[i]) + int(num2[i]) + carry\n",
    "        carry = digit_sum // 10\n",
    "        result.append(str(digit_sum % 10))\n",
    "\n",
    "    if carry:\n",
    "        result.append(str(carry))\n",
    "\n",
    "    return ''.join(result[::-1])"
   ]
  },
  {
   "cell_type": "markdown",
   "id": "9a7e62bb-ea49-4fb4-bb0d-9e251bdde747",
   "metadata": {},
   "source": [
    "## Question 4.  Given a string s, reverse the order of characters in each word within a sentence while still preserving whitespace and initial word order."
   ]
  },
  {
   "cell_type": "code",
   "execution_count": 4,
   "id": "470c8984-7bc3-4159-94e4-51f400192369",
   "metadata": {},
   "outputs": [],
   "source": [
    "def reverse_words(s):\n",
    "    words = s.split()  # Split the sentence into individual words\n",
    "    reversed_words = [word[::-1] for word in words]  # Reverse each word\n",
    "    return ' '.join(reversed_words)  # Join the reversed words with space in between\n"
   ]
  },
  {
   "cell_type": "markdown",
   "id": "51ea2dc7-7843-420a-8b02-e57e3fb3ca84",
   "metadata": {},
   "source": [
    "## Question 5. Given a string s and an integer k, reverse the first k characters for every 2k characters counting from the start of the string.\n",
    "\n",
    "## If there are fewer than k characters left, reverse all of them. If there are less than 2k but greater than or equal to k characters, then reverse the first k characters and leave the other as original."
   ]
  },
  {
   "cell_type": "code",
   "execution_count": 5,
   "id": "f26931d6-669e-4f97-88a2-8699c5610118",
   "metadata": {},
   "outputs": [],
   "source": [
    "def reverse_str(s, k):\n",
    "    result = ''\n",
    "    i = 0\n",
    "    while i < len(s):\n",
    "        # Reverse the first k characters\n",
    "        if i + k <= len(s):\n",
    "            result += s[i:i+k][::-1]\n",
    "        else:\n",
    "            result += s[i:][::-1]\n",
    "        i += k\n",
    "\n",
    "        # Append the remaining characters as is\n",
    "        if i < len(s):\n",
    "            result += s[i:i+k]\n",
    "        i += k\n",
    "\n",
    "    return result"
   ]
  },
  {
   "cell_type": "markdown",
   "id": "1dc0aad6-1778-4952-b645-1205482791b1",
   "metadata": {},
   "source": [
    "## Question 6. Given two strings s and goal, return true *if and only if* s *can become* goal *after some number of shifts on s.\n",
    "\n",
    "## A **shift** on s consists of moving the leftmost character of s to the rightmost position.\n",
    "\n",
    "- For example, if s = \"abcde\", then it will be \"bcdea\" after one shift.\n"
   ]
  },
  {
   "cell_type": "code",
   "execution_count": 6,
   "id": "a4a4fd12-8cb0-4ad9-9963-1310299f48c5",
   "metadata": {},
   "outputs": [],
   "source": [
    "def is_shift_possible(s, goal):\n",
    "    if len(s) != len(goal):\n",
    "        return False\n",
    "\n",
    "    for i in range(len(s)):\n",
    "        shifted_s = s[i:] + s[:i]\n",
    "        if shifted_s == goal:\n",
    "            return True\n",
    "\n",
    "    return False"
   ]
  },
  {
   "cell_type": "markdown",
   "id": "c4288680-7040-4962-a4cb-86a941a375d5",
   "metadata": {},
   "source": [
    "## Question 7. Given two strings s and t, return true *if they are equal when both are typed into empty text editors*. '#' means a backspace character.\n",
    "\n",
    "## Note that after backspacing an empty text, the text will continue empty."
   ]
  },
  {
   "cell_type": "code",
   "execution_count": 7,
   "id": "a1344aa1-0bfd-42c1-8b6b-da9c3eec3260",
   "metadata": {},
   "outputs": [],
   "source": [
    "def process_string(string):\n",
    "    processed = []\n",
    "    for char in string:\n",
    "        if char == '#':\n",
    "            if processed:\n",
    "                processed.pop()\n",
    "        else:\n",
    "            processed.append(char)\n",
    "    return ''.join(processed)\n",
    "\n",
    "def backspace_compare(s, t):\n",
    "    processed_s = process_string(s)\n",
    "    processed_t = process_string(t)\n",
    "    return processed_s == processed_t"
   ]
  },
  {
   "cell_type": "markdown",
   "id": "8f93fb7a-4fdc-44ef-a1c8-2a68a7949fcf",
   "metadata": {},
   "source": [
    "## Question 8. You are given an array coordinates, coordinates[i] = [x, y], where [x, y] represents the coordinate of a point. Check if these points make a straight line in the XY plane."
   ]
  },
  {
   "cell_type": "code",
   "execution_count": 8,
   "id": "3aca781b-7d4e-45e7-be24-51ab6346c5f6",
   "metadata": {},
   "outputs": [],
   "source": [
    "def check_straight_line(coordinates):\n",
    "    if len(coordinates) <= 2:\n",
    "        return True\n",
    "\n",
    "    x0, y0 = coordinates[0]\n",
    "    x1, y1 = coordinates[1]\n",
    "\n",
    "    for i in range(2, len(coordinates)):\n",
    "        x, y = coordinates[i]\n",
    "        if (y1 - y0) * (x - x0) != (x1 - x0) * (y - y0):\n",
    "            return False\n",
    "\n",
    "    return True"
   ]
  },
  {
   "cell_type": "code",
   "execution_count": null,
   "id": "a1ef7be7-8a41-4598-859d-e4c6099beb6d",
   "metadata": {},
   "outputs": [],
   "source": []
  }
 ],
 "metadata": {
  "kernelspec": {
   "display_name": "Python 3 (ipykernel)",
   "language": "python",
   "name": "python3"
  },
  "language_info": {
   "codemirror_mode": {
    "name": "ipython",
    "version": 3
   },
   "file_extension": ".py",
   "mimetype": "text/x-python",
   "name": "python",
   "nbconvert_exporter": "python",
   "pygments_lexer": "ipython3",
   "version": "3.10.8"
  }
 },
 "nbformat": 4,
 "nbformat_minor": 5
}
